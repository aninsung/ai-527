{
 "cells": [
  {
   "cell_type": "code",
   "execution_count": 5,
   "id": "660d1c99-2fa0-4b65-93ce-3525320cc37e",
   "metadata": {},
   "outputs": [
    {
     "name": "stdout",
     "output_type": "stream",
     "text": [
      "%pylab is deprecated, use %matplotlib inline and import the required libraries.\n",
      "Populating the interactive namespace from numpy and matplotlib\n",
      "[WinError 2] 지정된 파일을 찾을 수 없습니다: 'C:\\\\Users\\\\user/LabWorkbookForTrello/'\n",
      "C:\\Users\\user\\Desktop\\학부 연구생\\논문리뷰\\deep residual learning for image recognition\n"
     ]
    },
    {
     "ename": "SyntaxError",
     "evalue": "Missing parentheses in call to 'print'. Did you mean print(...)? (__init__.py, line 24)",
     "output_type": "error",
     "traceback": [
      "Traceback \u001b[1;36m(most recent call last)\u001b[0m:\n",
      "\u001b[0m  File \u001b[0;32m~\\anaconda3\\Lib\\site-packages\\IPython\\core\\interactiveshell.py:3577\u001b[0m in \u001b[0;35mrun_code\u001b[0m\n    exec(code_obj, self.user_global_ns, self.user_ns)\u001b[0m\n",
      "\u001b[1;36m  Cell \u001b[1;32mIn[5], line 7\u001b[1;36m\n\u001b[1;33m    import workbook\u001b[1;36m\n",
      "\u001b[1;36m  File \u001b[1;32m~\\anaconda3\\Lib\\site-packages\\workbook\\__init__.py:24\u001b[1;36m\u001b[0m\n\u001b[1;33m    print \"*** \\033[31m\" + title + \"\\033[0m ***\"\u001b[0m\n\u001b[1;37m    ^\u001b[0m\n\u001b[1;31mSyntaxError\u001b[0m\u001b[1;31m:\u001b[0m Missing parentheses in call to 'print'. Did you mean print(...)?\n"
     ]
    }
   ],
   "source": [
    "%pylab inline\n",
    "matplotlib.style.use(\"ggplot\")\n",
    "%cd ~/LabWorkbookForTrello/\n",
    "from pygments import lexers, formatters, highlight\n",
    "# Use like this:\n",
    "# print highlight(\"code\", lexers.DiffLexer(), formatters.TerminalFormatter())\n",
    "import workbook\n",
    "import pandas as pd\n",
    "import collections\n",
    "reload(workbook)\n",
    "wb = workbook.ExperimentRepository()"
   ]
  },
  {
   "cell_type": "code",
   "execution_count": null,
   "id": "c0d1db8a-212c-4c69-b1f0-d4e66dacb0a0",
   "metadata": {},
   "outputs": [],
   "source": []
  }
 ],
 "metadata": {
  "kernelspec": {
   "display_name": "Python 3 (ipykernel)",
   "language": "python",
   "name": "python3"
  },
  "language_info": {
   "codemirror_mode": {
    "name": "ipython",
    "version": 3
   },
   "file_extension": ".py",
   "mimetype": "text/x-python",
   "name": "python",
   "nbconvert_exporter": "python",
   "pygments_lexer": "ipython3",
   "version": "3.12.4"
  }
 },
 "nbformat": 4,
 "nbformat_minor": 5
}
