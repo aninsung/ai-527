{
 "cells": [
  {
   "cell_type": "code",
   "execution_count": 766,
   "id": "d32ce3cb-cb82-44dd-ab75-8a297a0340a9",
   "metadata": {},
   "outputs": [],
   "source": [
    "from sklearn.datasets import load_breast_cancer\n",
    "import pandas as pd\n",
    "import numpy as np\n",
    "import matplotlib.pyplot as plt\n",
    "from sklearn.model_selection import train_test_split\n",
    "from sklearn.preprocessing import StandardScaler, LabelEncoder\n",
    "from sklearn.neighbors import KNeighborsClassifier"
   ]
  },
  {
   "cell_type": "code",
   "execution_count": 767,
   "id": "fbe474c4-916e-43ac-8893-56b67bcb33f6",
   "metadata": {},
   "outputs": [],
   "source": [
    "import pandas as pd\n",
    "from sklearn.feature_extraction.text import TfidfVectorizer\n",
    "from sklearn.svm import SVC\n",
    "from sklearn.model_selection import train_test_split\n",
    "from sklearn.metrics import accuracy_score\n"
   ]
  },
  {
   "cell_type": "code",
   "execution_count": 772,
   "id": "6f9af019-20ce-4a19-a15c-22ff7f59113b",
   "metadata": {},
   "outputs": [
    {
     "data": {
      "text/html": [
       "<div>\n",
       "<style scoped>\n",
       "    .dataframe tbody tr th:only-of-type {\n",
       "        vertical-align: middle;\n",
       "    }\n",
       "\n",
       "    .dataframe tbody tr th {\n",
       "        vertical-align: top;\n",
       "    }\n",
       "\n",
       "    .dataframe thead th {\n",
       "        text-align: right;\n",
       "    }\n",
       "</style>\n",
       "<table border=\"1\" class=\"dataframe\">\n",
       "  <thead>\n",
       "    <tr style=\"text-align: right;\">\n",
       "      <th></th>\n",
       "      <th>uid</th>\n",
       "      <th>filename</th>\n",
       "      <th>projection</th>\n",
       "    </tr>\n",
       "  </thead>\n",
       "  <tbody>\n",
       "    <tr>\n",
       "      <th>0</th>\n",
       "      <td>1</td>\n",
       "      <td>1_IM-0001-4001.dcm.png</td>\n",
       "      <td>Frontal</td>\n",
       "    </tr>\n",
       "    <tr>\n",
       "      <th>1</th>\n",
       "      <td>1</td>\n",
       "      <td>1_IM-0001-3001.dcm.png</td>\n",
       "      <td>Lateral</td>\n",
       "    </tr>\n",
       "    <tr>\n",
       "      <th>2</th>\n",
       "      <td>2</td>\n",
       "      <td>2_IM-0652-1001.dcm.png</td>\n",
       "      <td>Frontal</td>\n",
       "    </tr>\n",
       "    <tr>\n",
       "      <th>3</th>\n",
       "      <td>2</td>\n",
       "      <td>2_IM-0652-2001.dcm.png</td>\n",
       "      <td>Lateral</td>\n",
       "    </tr>\n",
       "    <tr>\n",
       "      <th>4</th>\n",
       "      <td>3</td>\n",
       "      <td>3_IM-1384-1001.dcm.png</td>\n",
       "      <td>Frontal</td>\n",
       "    </tr>\n",
       "    <tr>\n",
       "      <th>...</th>\n",
       "      <td>...</td>\n",
       "      <td>...</td>\n",
       "      <td>...</td>\n",
       "    </tr>\n",
       "    <tr>\n",
       "      <th>7461</th>\n",
       "      <td>3997</td>\n",
       "      <td>3997_IM-2048-1002.dcm.png</td>\n",
       "      <td>Lateral</td>\n",
       "    </tr>\n",
       "    <tr>\n",
       "      <th>7462</th>\n",
       "      <td>3998</td>\n",
       "      <td>3998_IM-2048-1001.dcm.png</td>\n",
       "      <td>Frontal</td>\n",
       "    </tr>\n",
       "    <tr>\n",
       "      <th>7463</th>\n",
       "      <td>3998</td>\n",
       "      <td>3998_IM-2048-1002.dcm.png</td>\n",
       "      <td>Lateral</td>\n",
       "    </tr>\n",
       "    <tr>\n",
       "      <th>7464</th>\n",
       "      <td>3999</td>\n",
       "      <td>3999_IM-2049-1001.dcm.png</td>\n",
       "      <td>Frontal</td>\n",
       "    </tr>\n",
       "    <tr>\n",
       "      <th>7465</th>\n",
       "      <td>3999</td>\n",
       "      <td>3999_IM-2049-2001.dcm.png</td>\n",
       "      <td>Lateral</td>\n",
       "    </tr>\n",
       "  </tbody>\n",
       "</table>\n",
       "<p>7466 rows × 3 columns</p>\n",
       "</div>"
      ],
      "text/plain": [
       "       uid                   filename projection\n",
       "0        1     1_IM-0001-4001.dcm.png    Frontal\n",
       "1        1     1_IM-0001-3001.dcm.png    Lateral\n",
       "2        2     2_IM-0652-1001.dcm.png    Frontal\n",
       "3        2     2_IM-0652-2001.dcm.png    Lateral\n",
       "4        3     3_IM-1384-1001.dcm.png    Frontal\n",
       "...    ...                        ...        ...\n",
       "7461  3997  3997_IM-2048-1002.dcm.png    Lateral\n",
       "7462  3998  3998_IM-2048-1001.dcm.png    Frontal\n",
       "7463  3998  3998_IM-2048-1002.dcm.png    Lateral\n",
       "7464  3999  3999_IM-2049-1001.dcm.png    Frontal\n",
       "7465  3999  3999_IM-2049-2001.dcm.png    Lateral\n",
       "\n",
       "[7466 rows x 3 columns]"
      ]
     },
     "execution_count": 772,
     "metadata": {},
     "output_type": "execute_result"
    }
   ],
   "source": [
    "import numpy as np\n",
    "import pandas as pd\n",
    "import seaborn as sns\n",
    "from sklearn.model_selection import train_test_split\n",
    "import tensorflow as tf\n",
    "from tensorflow import keras\n",
    "\n",
    "df_pro = pd.read_csv(\"C:/Users/PC/OneDrive - gachon.ac.kr/바탕 화면/archive/indiana_projections.csv\")\n",
    "df_pro"
   ]
  },
  {
   "cell_type": "code",
   "execution_count": 774,
   "id": "472ce77f-3f1b-4aab-8891-d5727a22f24a",
   "metadata": {},
   "outputs": [
    {
     "data": {
      "text/html": [
       "<div>\n",
       "<style scoped>\n",
       "    .dataframe tbody tr th:only-of-type {\n",
       "        vertical-align: middle;\n",
       "    }\n",
       "\n",
       "    .dataframe tbody tr th {\n",
       "        vertical-align: top;\n",
       "    }\n",
       "\n",
       "    .dataframe thead th {\n",
       "        text-align: right;\n",
       "    }\n",
       "</style>\n",
       "<table border=\"1\" class=\"dataframe\">\n",
       "  <thead>\n",
       "    <tr style=\"text-align: right;\">\n",
       "      <th></th>\n",
       "      <th>MeSH</th>\n",
       "      <th>Problems</th>\n",
       "      <th>image</th>\n",
       "      <th>indication</th>\n",
       "      <th>comparison</th>\n",
       "      <th>findings</th>\n",
       "      <th>impression</th>\n",
       "    </tr>\n",
       "    <tr>\n",
       "      <th>uid</th>\n",
       "      <th></th>\n",
       "      <th></th>\n",
       "      <th></th>\n",
       "      <th></th>\n",
       "      <th></th>\n",
       "      <th></th>\n",
       "      <th></th>\n",
       "    </tr>\n",
       "  </thead>\n",
       "  <tbody>\n",
       "    <tr>\n",
       "      <th>1</th>\n",
       "      <td>normal</td>\n",
       "      <td>normal</td>\n",
       "      <td>Xray Chest PA and Lateral</td>\n",
       "      <td>Positive TB test</td>\n",
       "      <td>None.</td>\n",
       "      <td>The cardiac silhouette and mediastinum size ar...</td>\n",
       "      <td>Normal chest x-XXXX.</td>\n",
       "    </tr>\n",
       "    <tr>\n",
       "      <th>2</th>\n",
       "      <td>Cardiomegaly/borderline;Pulmonary Artery/enlarged</td>\n",
       "      <td>Cardiomegaly;Pulmonary Artery</td>\n",
       "      <td>Chest, 2 views, frontal and lateral</td>\n",
       "      <td>Preop bariatric surgery.</td>\n",
       "      <td>None.</td>\n",
       "      <td>Borderline cardiomegaly. Midline sternotomy XX...</td>\n",
       "      <td>No acute pulmonary findings.</td>\n",
       "    </tr>\n",
       "    <tr>\n",
       "      <th>3</th>\n",
       "      <td>normal</td>\n",
       "      <td>normal</td>\n",
       "      <td>Xray Chest PA and Lateral</td>\n",
       "      <td>rib pain after a XXXX, XXXX XXXX steps this XX...</td>\n",
       "      <td>NaN</td>\n",
       "      <td>NaN</td>\n",
       "      <td>No displaced rib fractures, pneumothorax, or p...</td>\n",
       "    </tr>\n",
       "    <tr>\n",
       "      <th>4</th>\n",
       "      <td>Pulmonary Disease, Chronic Obstructive;Bullous...</td>\n",
       "      <td>Pulmonary Disease, Chronic Obstructive;Bullous...</td>\n",
       "      <td>PA and lateral views of the chest XXXX, XXXX a...</td>\n",
       "      <td>XXXX-year-old XXXX with XXXX.</td>\n",
       "      <td>None available</td>\n",
       "      <td>There are diffuse bilateral interstitial and a...</td>\n",
       "      <td>1. Bullous emphysema and interstitial fibrosis...</td>\n",
       "    </tr>\n",
       "    <tr>\n",
       "      <th>5</th>\n",
       "      <td>Osteophyte/thoracic vertebrae/multiple/small;T...</td>\n",
       "      <td>Osteophyte;Thickening;Lung</td>\n",
       "      <td>Xray Chest PA and Lateral</td>\n",
       "      <td>Chest and nasal congestion.</td>\n",
       "      <td>NaN</td>\n",
       "      <td>The cardiomediastinal silhouette and pulmonary...</td>\n",
       "      <td>No acute cardiopulmonary abnormality.</td>\n",
       "    </tr>\n",
       "    <tr>\n",
       "      <th>...</th>\n",
       "      <td>...</td>\n",
       "      <td>...</td>\n",
       "      <td>...</td>\n",
       "      <td>...</td>\n",
       "      <td>...</td>\n",
       "      <td>...</td>\n",
       "      <td>...</td>\n",
       "    </tr>\n",
       "    <tr>\n",
       "      <th>3995</th>\n",
       "      <td>Lung/hyperdistention/mild;Diaphragm/bilateral/...</td>\n",
       "      <td>Lung;Diaphragm;Cicatrix;Pulmonary Atelectasis;...</td>\n",
       "      <td>Xray Chest PA and Lateral</td>\n",
       "      <td>Nausea, vomiting x2 weeks. Dialysis patient.</td>\n",
       "      <td>XXXX, XXXX.</td>\n",
       "      <td>The cardiomediastinal silhouette and pulmonary...</td>\n",
       "      <td>1. Interval resolution of bibasilar airspace d...</td>\n",
       "    </tr>\n",
       "    <tr>\n",
       "      <th>3996</th>\n",
       "      <td>Spine/degenerative</td>\n",
       "      <td>Spine</td>\n",
       "      <td>Xray Chest PA and Lateral</td>\n",
       "      <td>NaN</td>\n",
       "      <td>None.</td>\n",
       "      <td>The lungs are clear. Heart size is normal. No ...</td>\n",
       "      <td>Clear lungs. No acute cardiopulmonary abnormal...</td>\n",
       "    </tr>\n",
       "    <tr>\n",
       "      <th>3997</th>\n",
       "      <td>Opacity/lung/upper lobe/right/round/small;Gran...</td>\n",
       "      <td>Opacity;Granuloma</td>\n",
       "      <td>PA and lateral views of the chest.</td>\n",
       "      <td>XXXX-year-old male with positive PPD.</td>\n",
       "      <td>None available.</td>\n",
       "      <td>Heart size within normal limits. Small, nodula...</td>\n",
       "      <td>No acute findings, no evidence for active TB.</td>\n",
       "    </tr>\n",
       "    <tr>\n",
       "      <th>3998</th>\n",
       "      <td>normal</td>\n",
       "      <td>normal</td>\n",
       "      <td>PA and lateral chest XXXX, XXXX XXXX comparis...</td>\n",
       "      <td>tuberculosis positive PPD</td>\n",
       "      <td>NaN</td>\n",
       "      <td>NaN</td>\n",
       "      <td>Heart size is normal and the lungs are clear.</td>\n",
       "    </tr>\n",
       "    <tr>\n",
       "      <th>3999</th>\n",
       "      <td>normal</td>\n",
       "      <td>normal</td>\n",
       "      <td>CHEST PA and LATERAL: on XXXX, XXXX.</td>\n",
       "      <td>This is a XXXX-year-old female patient with sh...</td>\n",
       "      <td>Chest x-XXXX, XXXX, XXXX.</td>\n",
       "      <td>NaN</td>\n",
       "      <td>The cardiac silhouette is normal in size and c...</td>\n",
       "    </tr>\n",
       "  </tbody>\n",
       "</table>\n",
       "<p>3851 rows × 7 columns</p>\n",
       "</div>"
      ],
      "text/plain": [
       "                                                   MeSH  \\\n",
       "uid                                                       \n",
       "1                                                normal   \n",
       "2     Cardiomegaly/borderline;Pulmonary Artery/enlarged   \n",
       "3                                                normal   \n",
       "4     Pulmonary Disease, Chronic Obstructive;Bullous...   \n",
       "5     Osteophyte/thoracic vertebrae/multiple/small;T...   \n",
       "...                                                 ...   \n",
       "3995  Lung/hyperdistention/mild;Diaphragm/bilateral/...   \n",
       "3996                                 Spine/degenerative   \n",
       "3997  Opacity/lung/upper lobe/right/round/small;Gran...   \n",
       "3998                                             normal   \n",
       "3999                                             normal   \n",
       "\n",
       "                                               Problems  \\\n",
       "uid                                                       \n",
       "1                                                normal   \n",
       "2                         Cardiomegaly;Pulmonary Artery   \n",
       "3                                                normal   \n",
       "4     Pulmonary Disease, Chronic Obstructive;Bullous...   \n",
       "5                            Osteophyte;Thickening;Lung   \n",
       "...                                                 ...   \n",
       "3995  Lung;Diaphragm;Cicatrix;Pulmonary Atelectasis;...   \n",
       "3996                                              Spine   \n",
       "3997                                  Opacity;Granuloma   \n",
       "3998                                             normal   \n",
       "3999                                             normal   \n",
       "\n",
       "                                                  image  \\\n",
       "uid                                                       \n",
       "1                             Xray Chest PA and Lateral   \n",
       "2                   Chest, 2 views, frontal and lateral   \n",
       "3                             Xray Chest PA and Lateral   \n",
       "4     PA and lateral views of the chest XXXX, XXXX a...   \n",
       "5                             Xray Chest PA and Lateral   \n",
       "...                                                 ...   \n",
       "3995                          Xray Chest PA and Lateral   \n",
       "3996                          Xray Chest PA and Lateral   \n",
       "3997                PA and lateral views of the chest.    \n",
       "3998   PA and lateral chest XXXX, XXXX XXXX comparis...   \n",
       "3999              CHEST PA and LATERAL: on XXXX, XXXX.    \n",
       "\n",
       "                                             indication  \\\n",
       "uid                                                       \n",
       "1                                      Positive TB test   \n",
       "2                              Preop bariatric surgery.   \n",
       "3     rib pain after a XXXX, XXXX XXXX steps this XX...   \n",
       "4                         XXXX-year-old XXXX with XXXX.   \n",
       "5                           Chest and nasal congestion.   \n",
       "...                                                 ...   \n",
       "3995       Nausea, vomiting x2 weeks. Dialysis patient.   \n",
       "3996                                                NaN   \n",
       "3997              XXXX-year-old male with positive PPD.   \n",
       "3998                          tuberculosis positive PPD   \n",
       "3999  This is a XXXX-year-old female patient with sh...   \n",
       "\n",
       "                     comparison  \\\n",
       "uid                               \n",
       "1                         None.   \n",
       "2                         None.   \n",
       "3                           NaN   \n",
       "4                None available   \n",
       "5                           NaN   \n",
       "...                         ...   \n",
       "3995                XXXX, XXXX.   \n",
       "3996                      None.   \n",
       "3997            None available.   \n",
       "3998                        NaN   \n",
       "3999  Chest x-XXXX, XXXX, XXXX.   \n",
       "\n",
       "                                               findings  \\\n",
       "uid                                                       \n",
       "1     The cardiac silhouette and mediastinum size ar...   \n",
       "2     Borderline cardiomegaly. Midline sternotomy XX...   \n",
       "3                                                   NaN   \n",
       "4     There are diffuse bilateral interstitial and a...   \n",
       "5     The cardiomediastinal silhouette and pulmonary...   \n",
       "...                                                 ...   \n",
       "3995  The cardiomediastinal silhouette and pulmonary...   \n",
       "3996  The lungs are clear. Heart size is normal. No ...   \n",
       "3997  Heart size within normal limits. Small, nodula...   \n",
       "3998                                                NaN   \n",
       "3999                                                NaN   \n",
       "\n",
       "                                             impression  \n",
       "uid                                                      \n",
       "1                                  Normal chest x-XXXX.  \n",
       "2                          No acute pulmonary findings.  \n",
       "3     No displaced rib fractures, pneumothorax, or p...  \n",
       "4     1. Bullous emphysema and interstitial fibrosis...  \n",
       "5                 No acute cardiopulmonary abnormality.  \n",
       "...                                                 ...  \n",
       "3995  1. Interval resolution of bibasilar airspace d...  \n",
       "3996  Clear lungs. No acute cardiopulmonary abnormal...  \n",
       "3997      No acute findings, no evidence for active TB.  \n",
       "3998      Heart size is normal and the lungs are clear.  \n",
       "3999  The cardiac silhouette is normal in size and c...  \n",
       "\n",
       "[3851 rows x 7 columns]"
      ]
     },
     "execution_count": 774,
     "metadata": {},
     "output_type": "execute_result"
    }
   ],
   "source": [
    "df_re = pd.read_csv(\"C:/Users/PC/OneDrive - gachon.ac.kr/바탕 화면/archive/indiana_reports.csv\", index_col=0)\n",
    "df_re"
   ]
  },
  {
   "cell_type": "code",
   "execution_count": 776,
   "id": "d17cb59e-c034-4521-90ef-94a8368206ca",
   "metadata": {},
   "outputs": [
    {
     "name": "stdout",
     "output_type": "stream",
     "text": [
      "<class 'pandas.core.frame.DataFrame'>\n",
      "Index: 3851 entries, 1 to 3999\n",
      "Data columns (total 7 columns):\n",
      " #   Column      Non-Null Count  Dtype \n",
      "---  ------      --------------  ----- \n",
      " 0   MeSH        3851 non-null   object\n",
      " 1   Problems    3851 non-null   object\n",
      " 2   image       3851 non-null   object\n",
      " 3   indication  3765 non-null   object\n",
      " 4   comparison  2685 non-null   object\n",
      " 5   findings    3337 non-null   object\n",
      " 6   impression  3820 non-null   object\n",
      "dtypes: object(7)\n",
      "memory usage: 240.7+ KB\n"
     ]
    }
   ],
   "source": [
    "df_re.info()"
   ]
  },
  {
   "cell_type": "code",
   "execution_count": 778,
   "id": "158a0c71-5fbd-4525-9447-51d7d2649dd0",
   "metadata": {},
   "outputs": [
    {
     "name": "stdout",
     "output_type": "stream",
     "text": [
      "<class 'pandas.core.frame.DataFrame'>\n",
      "Index: 3818 entries, 0 to 7464\n",
      "Data columns (total 3 columns):\n",
      " #   Column      Non-Null Count  Dtype \n",
      "---  ------      --------------  ----- \n",
      " 0   uid         3818 non-null   int64 \n",
      " 1   filename    3818 non-null   object\n",
      " 2   projection  3818 non-null   object\n",
      "dtypes: int64(1), object(2)\n",
      "memory usage: 119.3+ KB\n"
     ]
    }
   ],
   "source": [
    "df_pro.drop(df_pro[df_pro['projection']=='Lateral'].index, inplace=True)\n",
    "df_pro.info()"
   ]
  },
  {
   "cell_type": "code",
   "execution_count": 780,
   "id": "0c2b3059-8872-4a43-8eef-7e1d834b156e",
   "metadata": {},
   "outputs": [
    {
     "name": "stdout",
     "output_type": "stream",
     "text": [
      "(3307, 1000)\n"
     ]
    }
   ],
   "source": [
    "from sklearn.feature_extraction.text import TfidfVectorizer\n",
    "\n",
    "# 텍스트 데이터 (예: findings) 확인\n",
    "X_text = df['findings'].dropna()  # NaN 제거\n",
    "\n",
    "# TF-IDF 벡터화\n",
    "vectorizer = TfidfVectorizer(max_features=1000)\n",
    "X_text_vec = vectorizer.fit_transform(X_text)\n",
    "\n",
    "# 벡터화된 결과 확인\n",
    "print(X_text_vec.shape)  # 벡터화된 데이터의 크기 확인\n"
   ]
  },
  {
   "cell_type": "code",
   "execution_count": 782,
   "id": "a8a58ca4-060e-43c5-a1e2-bbb5e184a4d0",
   "metadata": {},
   "outputs": [
    {
     "name": "stdout",
     "output_type": "stream",
     "text": [
      "   uid  projection  projection_encoded  impression_encoded  filename_0  \\\n",
      "0    1           0                   0                1342         0.0   \n",
      "1    2           0                   0                1256         0.0   \n",
      "2    3           0                   0                1276         0.0   \n",
      "3    4           0                   0                  20         0.0   \n",
      "4    5           0                   0                1172         0.0   \n",
      "\n",
      "   filename_1  filename_2  filename_3  filename_4  filename_5  ...  \\\n",
      "0         0.0         0.0         0.0         0.0         0.0  ...   \n",
      "1         0.0         0.0         0.0         0.0         0.0  ...   \n",
      "2         0.0         0.0         0.0         0.0         0.0  ...   \n",
      "3         0.0         0.0         0.0         0.0         0.0  ...   \n",
      "4         0.0         0.0         0.0         0.0         0.0  ...   \n",
      "\n",
      "   impression_1677  impression_1678  impression_1679  impression_1680  \\\n",
      "0              0.0              0.0              0.0              0.0   \n",
      "1              0.0              0.0              0.0              0.0   \n",
      "2              0.0              0.0              0.0              0.0   \n",
      "3              0.0              0.0              0.0              0.0   \n",
      "4              0.0              0.0              0.0              0.0   \n",
      "\n",
      "   impression_1681  impression_1682  impression_1683  impression_1684  \\\n",
      "0              0.0              0.0              0.0              0.0   \n",
      "1              0.0              0.0              0.0              0.0   \n",
      "2              0.0              0.0              0.0              0.0   \n",
      "3              0.0              0.0              0.0              0.0   \n",
      "4              0.0              0.0              0.0              0.0   \n",
      "\n",
      "   impression_1685  impression_1686  \n",
      "0              0.0              0.0  \n",
      "1              0.0              0.0  \n",
      "2              0.0              0.0  \n",
      "3              0.0              0.0  \n",
      "4              0.0              0.0  \n",
      "\n",
      "[5 rows x 14529 columns]\n"
     ]
    }
   ],
   "source": [
    "import pandas as pd\n",
    "from sklearn.preprocessing import LabelEncoder, OneHotEncoder\n",
    "import numpy as np\n",
    "\n",
    "\n",
    "\n",
    "# 텍스트 데이터를 숫자형으로 자동으로 변환하는 함수\n",
    "def encode_text_data(df):\n",
    "    label_encoder = LabelEncoder()\n",
    "    one_hot_encoder = OneHotEncoder(sparse_output=False)  # sparse_output=False로 설정\n",
    "\n",
    "    # 모든 컬럼을 탐색하여 텍스트 데이터가 있는 경우 숫자형으로 변환\n",
    "    for column in df.select_dtypes(include=['object']).columns:\n",
    "        # 텍스트 컬럼에 대해 Label Encoding을 적용\n",
    "        if df[column].nunique() < 20:  # 고유값이 20개 미만일 경우 Label Encoding\n",
    "            df[column] = label_encoder.fit_transform(df[column].fillna('Unknown'))\n",
    "        else:  # 고유값이 많을 경우 One Hot Encoding을 적용\n",
    "            encoded_values = one_hot_encoder.fit_transform(df[column].fillna('Unknown').values.reshape(-1, 1))\n",
    "            # 열 이름을 적절히 생성\n",
    "            encoded_df = pd.DataFrame(encoded_values, columns=[f\"{column}_{i}\" for i in range(encoded_values.shape[1])])\n",
    "            # 기존 데이터프레임에 추가하고 원본 컬럼 삭제\n",
    "            df = pd.concat([df, encoded_df], axis=1).drop(columns=[column])\n",
    "\n",
    "    return df\n",
    "\n",
    "# 데이터 전처리 적용\n",
    "df_encoded = encode_text_data(df)\n",
    "\n",
    "# 결과 확인\n",
    "print(df_encoded.head())\n"
   ]
  },
  {
   "cell_type": "code",
   "execution_count": 783,
   "id": "90417ec6-c2f0-4bce-a9e1-5cf3638a68b4",
   "metadata": {},
   "outputs": [
    {
     "name": "stdout",
     "output_type": "stream",
     "text": [
      "(7470, 224, 224, 3)\n"
     ]
    }
   ],
   "source": [
    "import os\n",
    "import numpy as np\n",
    "from tensorflow.keras.preprocessing.image import load_img, img_to_array\n",
    "import tensorflow as tf\n",
    "\n",
    "# 이미지 디렉토리 경로\n",
    "image_dir = r'C:\\Users\\PC\\OneDrive - gachon.ac.kr\\바탕 화면\\archive\\images\\images_normalized'\n",
    "\n",
    "# 이미지 데이터와 레이블을 저장할 리스트\n",
    "images = []\n",
    "labels = []\n",
    "\n",
    "# 디렉토리 내의 모든 이미지 파일을 로드\n",
    "for img_file in os.listdir(image_dir):\n",
    "    img_path = os.path.join(image_dir, img_file)\n",
    "    \n",
    "    # 이미지 로드 및 전처리 (크기 조정 및 정규화)\n",
    "    img = load_img(img_path, target_size=(224, 224))  # 크기 조정\n",
    "    img_array = img_to_array(img) / 255.0  # 이미지 정규화 (0~1 범위로)\n",
    "\n",
    "    images.append(img_array)\n",
    "    \n",
    "    # 레이블 지정 (파일 이름에 따른 레이블 설정 예시)\n",
    "    # 예시로 'normal'이라는 단어가 파일명에 포함된 이미지는 0, 나머지는 1로 설정\n",
    "    if 'normal' in img_file.lower():\n",
    "        labels.append(0)  # normal\n",
    "    else:\n",
    "        labels.append(1)  # abnormal (예: pneumonia, disease 등)\n",
    "\n",
    "# 이미지와 레이블을 NumPy 배열로 변환\n",
    "X_images = np.array(images)\n",
    "y_labels = np.array(labels)\n",
    "\n",
    "print(X_images.shape)  # 이미지 데이터의 크기 확인\n"
   ]
  },
  {
   "cell_type": "code",
   "execution_count": 792,
   "id": "9af19144-2857-4218-96c0-0344469c82e9",
   "metadata": {},
   "outputs": [
    {
     "name": "stderr",
     "output_type": "stream",
     "text": [
      "C:\\Users\\PC\\anaconda3\\Lib\\site-packages\\keras\\src\\layers\\convolutional\\base_conv.py:107: UserWarning: Do not pass an `input_shape`/`input_dim` argument to a layer. When using Sequential models, prefer using an `Input(shape)` object as the first layer in the model instead.\n",
      "  super().__init__(activity_regularizer=activity_regularizer, **kwargs)\n"
     ]
    },
    {
     "data": {
      "text/html": [
       "<pre style=\"white-space:pre;overflow-x:auto;line-height:normal;font-family:Menlo,'DejaVu Sans Mono',consolas,'Courier New',monospace\"><span style=\"font-weight: bold\">Model: \"sequential_17\"</span>\n",
       "</pre>\n"
      ],
      "text/plain": [
       "\u001b[1mModel: \"sequential_17\"\u001b[0m\n"
      ]
     },
     "metadata": {},
     "output_type": "display_data"
    },
    {
     "data": {
      "text/html": [
       "<pre style=\"white-space:pre;overflow-x:auto;line-height:normal;font-family:Menlo,'DejaVu Sans Mono',consolas,'Courier New',monospace\">┏━━━━━━━━━━━━━━━━━━━━━━━━━━━━━━━━━━━━━━┳━━━━━━━━━━━━━━━━━━━━━━━━━━━━━┳━━━━━━━━━━━━━━━━━┓\n",
       "┃<span style=\"font-weight: bold\"> Layer (type)                         </span>┃<span style=\"font-weight: bold\"> Output Shape                </span>┃<span style=\"font-weight: bold\">         Param # </span>┃\n",
       "┡━━━━━━━━━━━━━━━━━━━━━━━━━━━━━━━━━━━━━━╇━━━━━━━━━━━━━━━━━━━━━━━━━━━━━╇━━━━━━━━━━━━━━━━━┩\n",
       "│ conv2d_24 (<span style=\"color: #0087ff; text-decoration-color: #0087ff\">Conv2D</span>)                   │ (<span style=\"color: #00d7ff; text-decoration-color: #00d7ff\">None</span>, <span style=\"color: #00af00; text-decoration-color: #00af00\">222</span>, <span style=\"color: #00af00; text-decoration-color: #00af00\">222</span>, <span style=\"color: #00af00; text-decoration-color: #00af00\">32</span>)        │             <span style=\"color: #00af00; text-decoration-color: #00af00\">896</span> │\n",
       "├──────────────────────────────────────┼─────────────────────────────┼─────────────────┤\n",
       "│ max_pooling2d_14 (<span style=\"color: #0087ff; text-decoration-color: #0087ff\">MaxPooling2D</span>)      │ (<span style=\"color: #00d7ff; text-decoration-color: #00d7ff\">None</span>, <span style=\"color: #00af00; text-decoration-color: #00af00\">111</span>, <span style=\"color: #00af00; text-decoration-color: #00af00\">111</span>, <span style=\"color: #00af00; text-decoration-color: #00af00\">32</span>)        │               <span style=\"color: #00af00; text-decoration-color: #00af00\">0</span> │\n",
       "├──────────────────────────────────────┼─────────────────────────────┼─────────────────┤\n",
       "│ conv2d_25 (<span style=\"color: #0087ff; text-decoration-color: #0087ff\">Conv2D</span>)                   │ (<span style=\"color: #00d7ff; text-decoration-color: #00d7ff\">None</span>, <span style=\"color: #00af00; text-decoration-color: #00af00\">109</span>, <span style=\"color: #00af00; text-decoration-color: #00af00\">109</span>, <span style=\"color: #00af00; text-decoration-color: #00af00\">64</span>)        │          <span style=\"color: #00af00; text-decoration-color: #00af00\">18,496</span> │\n",
       "├──────────────────────────────────────┼─────────────────────────────┼─────────────────┤\n",
       "│ max_pooling2d_15 (<span style=\"color: #0087ff; text-decoration-color: #0087ff\">MaxPooling2D</span>)      │ (<span style=\"color: #00d7ff; text-decoration-color: #00d7ff\">None</span>, <span style=\"color: #00af00; text-decoration-color: #00af00\">54</span>, <span style=\"color: #00af00; text-decoration-color: #00af00\">54</span>, <span style=\"color: #00af00; text-decoration-color: #00af00\">64</span>)          │               <span style=\"color: #00af00; text-decoration-color: #00af00\">0</span> │\n",
       "├──────────────────────────────────────┼─────────────────────────────┼─────────────────┤\n",
       "│ flatten_22 (<span style=\"color: #0087ff; text-decoration-color: #0087ff\">Flatten</span>)                 │ (<span style=\"color: #00d7ff; text-decoration-color: #00d7ff\">None</span>, <span style=\"color: #00af00; text-decoration-color: #00af00\">186624</span>)              │               <span style=\"color: #00af00; text-decoration-color: #00af00\">0</span> │\n",
       "├──────────────────────────────────────┼─────────────────────────────┼─────────────────┤\n",
       "│ dense_44 (<span style=\"color: #0087ff; text-decoration-color: #0087ff\">Dense</span>)                     │ (<span style=\"color: #00d7ff; text-decoration-color: #00d7ff\">None</span>, <span style=\"color: #00af00; text-decoration-color: #00af00\">128</span>)                 │      <span style=\"color: #00af00; text-decoration-color: #00af00\">23,888,000</span> │\n",
       "├──────────────────────────────────────┼─────────────────────────────┼─────────────────┤\n",
       "│ dense_45 (<span style=\"color: #0087ff; text-decoration-color: #0087ff\">Dense</span>)                     │ (<span style=\"color: #00d7ff; text-decoration-color: #00d7ff\">None</span>, <span style=\"color: #00af00; text-decoration-color: #00af00\">1</span>)                   │             <span style=\"color: #00af00; text-decoration-color: #00af00\">129</span> │\n",
       "└──────────────────────────────────────┴─────────────────────────────┴─────────────────┘\n",
       "</pre>\n"
      ],
      "text/plain": [
       "┏━━━━━━━━━━━━━━━━━━━━━━━━━━━━━━━━━━━━━━┳━━━━━━━━━━━━━━━━━━━━━━━━━━━━━┳━━━━━━━━━━━━━━━━━┓\n",
       "┃\u001b[1m \u001b[0m\u001b[1mLayer (type)                        \u001b[0m\u001b[1m \u001b[0m┃\u001b[1m \u001b[0m\u001b[1mOutput Shape               \u001b[0m\u001b[1m \u001b[0m┃\u001b[1m \u001b[0m\u001b[1m        Param #\u001b[0m\u001b[1m \u001b[0m┃\n",
       "┡━━━━━━━━━━━━━━━━━━━━━━━━━━━━━━━━━━━━━━╇━━━━━━━━━━━━━━━━━━━━━━━━━━━━━╇━━━━━━━━━━━━━━━━━┩\n",
       "│ conv2d_24 (\u001b[38;5;33mConv2D\u001b[0m)                   │ (\u001b[38;5;45mNone\u001b[0m, \u001b[38;5;34m222\u001b[0m, \u001b[38;5;34m222\u001b[0m, \u001b[38;5;34m32\u001b[0m)        │             \u001b[38;5;34m896\u001b[0m │\n",
       "├──────────────────────────────────────┼─────────────────────────────┼─────────────────┤\n",
       "│ max_pooling2d_14 (\u001b[38;5;33mMaxPooling2D\u001b[0m)      │ (\u001b[38;5;45mNone\u001b[0m, \u001b[38;5;34m111\u001b[0m, \u001b[38;5;34m111\u001b[0m, \u001b[38;5;34m32\u001b[0m)        │               \u001b[38;5;34m0\u001b[0m │\n",
       "├──────────────────────────────────────┼─────────────────────────────┼─────────────────┤\n",
       "│ conv2d_25 (\u001b[38;5;33mConv2D\u001b[0m)                   │ (\u001b[38;5;45mNone\u001b[0m, \u001b[38;5;34m109\u001b[0m, \u001b[38;5;34m109\u001b[0m, \u001b[38;5;34m64\u001b[0m)        │          \u001b[38;5;34m18,496\u001b[0m │\n",
       "├──────────────────────────────────────┼─────────────────────────────┼─────────────────┤\n",
       "│ max_pooling2d_15 (\u001b[38;5;33mMaxPooling2D\u001b[0m)      │ (\u001b[38;5;45mNone\u001b[0m, \u001b[38;5;34m54\u001b[0m, \u001b[38;5;34m54\u001b[0m, \u001b[38;5;34m64\u001b[0m)          │               \u001b[38;5;34m0\u001b[0m │\n",
       "├──────────────────────────────────────┼─────────────────────────────┼─────────────────┤\n",
       "│ flatten_22 (\u001b[38;5;33mFlatten\u001b[0m)                 │ (\u001b[38;5;45mNone\u001b[0m, \u001b[38;5;34m186624\u001b[0m)              │               \u001b[38;5;34m0\u001b[0m │\n",
       "├──────────────────────────────────────┼─────────────────────────────┼─────────────────┤\n",
       "│ dense_44 (\u001b[38;5;33mDense\u001b[0m)                     │ (\u001b[38;5;45mNone\u001b[0m, \u001b[38;5;34m128\u001b[0m)                 │      \u001b[38;5;34m23,888,000\u001b[0m │\n",
       "├──────────────────────────────────────┼─────────────────────────────┼─────────────────┤\n",
       "│ dense_45 (\u001b[38;5;33mDense\u001b[0m)                     │ (\u001b[38;5;45mNone\u001b[0m, \u001b[38;5;34m1\u001b[0m)                   │             \u001b[38;5;34m129\u001b[0m │\n",
       "└──────────────────────────────────────┴─────────────────────────────┴─────────────────┘\n"
      ]
     },
     "metadata": {},
     "output_type": "display_data"
    },
    {
     "data": {
      "text/html": [
       "<pre style=\"white-space:pre;overflow-x:auto;line-height:normal;font-family:Menlo,'DejaVu Sans Mono',consolas,'Courier New',monospace\"><span style=\"font-weight: bold\"> Total params: </span><span style=\"color: #00af00; text-decoration-color: #00af00\">23,907,521</span> (91.20 MB)\n",
       "</pre>\n"
      ],
      "text/plain": [
       "\u001b[1m Total params: \u001b[0m\u001b[38;5;34m23,907,521\u001b[0m (91.20 MB)\n"
      ]
     },
     "metadata": {},
     "output_type": "display_data"
    },
    {
     "data": {
      "text/html": [
       "<pre style=\"white-space:pre;overflow-x:auto;line-height:normal;font-family:Menlo,'DejaVu Sans Mono',consolas,'Courier New',monospace\"><span style=\"font-weight: bold\"> Trainable params: </span><span style=\"color: #00af00; text-decoration-color: #00af00\">23,907,521</span> (91.20 MB)\n",
       "</pre>\n"
      ],
      "text/plain": [
       "\u001b[1m Trainable params: \u001b[0m\u001b[38;5;34m23,907,521\u001b[0m (91.20 MB)\n"
      ]
     },
     "metadata": {},
     "output_type": "display_data"
    },
    {
     "data": {
      "text/html": [
       "<pre style=\"white-space:pre;overflow-x:auto;line-height:normal;font-family:Menlo,'DejaVu Sans Mono',consolas,'Courier New',monospace\"><span style=\"font-weight: bold\"> Non-trainable params: </span><span style=\"color: #00af00; text-decoration-color: #00af00\">0</span> (0.00 B)\n",
       "</pre>\n"
      ],
      "text/plain": [
       "\u001b[1m Non-trainable params: \u001b[0m\u001b[38;5;34m0\u001b[0m (0.00 B)\n"
      ]
     },
     "metadata": {},
     "output_type": "display_data"
    }
   ],
   "source": [
    "from sklearn.model_selection import train_test_split\n",
    "from tensorflow.keras.models import Sequential\n",
    "from tensorflow.keras.layers import Conv2D, MaxPooling2D, Flatten, Dense\n",
    "from tensorflow.keras.optimizers import Adam\n",
    "\n",
    "# 데이터 분할 (80% 학습, 20% 테스트)\n",
    "X_train, X_test, y_train, y_test = train_test_split(X_images, y_labels, test_size=0.2, random_state=42)\n",
    "\n",
    "# CNN 모델 구축\n",
    "model = Sequential([\n",
    "    Conv2D(32, (3, 3), activation='relu', input_shape=(224, 224, 3)),\n",
    "    MaxPooling2D((2, 2)),\n",
    "    Conv2D(64, (3, 3), activation='relu'),\n",
    "    MaxPooling2D((2, 2)),\n",
    "    Flatten(),\n",
    "    Dense(128, activation='relu'),\n",
    "    Dense(1, activation='softmax')  # 다중 분류\n",
    "])\n",
    "\n",
    "# 모델 컴파일\n",
    "model.compile(optimizer=Adam(), loss='categorical_crossentropy', metrics=['accuracy'])\n",
    "model.summary()\n"
   ]
  },
  {
   "cell_type": "code",
   "execution_count": 793,
   "id": "6eb79231-1f1d-4863-a52d-d27eb22e439d",
   "metadata": {},
   "outputs": [
    {
     "name": "stdout",
     "output_type": "stream",
     "text": [
      "Epoch 1/5\n"
     ]
    },
    {
     "name": "stderr",
     "output_type": "stream",
     "text": [
      "C:\\Users\\PC\\anaconda3\\Lib\\site-packages\\keras\\src\\ops\\nn.py:545: UserWarning: You are using a softmax over axis -1 of a tensor of shape (None, 1). This axis has size 1. The softmax operation will always return the value 1, which is likely not what you intended. Did you mean to use a sigmoid instead?\n",
      "  warnings.warn(\n",
      "C:\\Users\\PC\\anaconda3\\Lib\\site-packages\\keras\\src\\losses\\losses.py:22: SyntaxWarning: In loss categorical_crossentropy, expected y_pred.shape to be (batch_size, num_classes) with num_classes > 1. Received: y_pred.shape=(None, 1). Consider using 'binary_crossentropy' if you only have 2 classes.\n",
      "  return self.fn(y_true, y_pred, **self._fn_kwargs)\n"
     ]
    },
    {
     "name": "stdout",
     "output_type": "stream",
     "text": [
      "\u001b[1m187/187\u001b[0m \u001b[32m━━━━━━━━━━━━━━━━━━━━\u001b[0m\u001b[37m\u001b[0m \u001b[1m109s\u001b[0m 567ms/step - accuracy: 1.0000 - loss: 0.0000e+00 - val_accuracy: 1.0000 - val_loss: 0.0000e+00\n",
      "Epoch 2/5\n",
      "\u001b[1m187/187\u001b[0m \u001b[32m━━━━━━━━━━━━━━━━━━━━\u001b[0m\u001b[37m\u001b[0m \u001b[1m105s\u001b[0m 561ms/step - accuracy: 1.0000 - loss: 0.0000e+00 - val_accuracy: 1.0000 - val_loss: 0.0000e+00\n",
      "Epoch 3/5\n",
      "\u001b[1m187/187\u001b[0m \u001b[32m━━━━━━━━━━━━━━━━━━━━\u001b[0m\u001b[37m\u001b[0m \u001b[1m102s\u001b[0m 545ms/step - accuracy: 1.0000 - loss: 0.0000e+00 - val_accuracy: 1.0000 - val_loss: 0.0000e+00\n",
      "Epoch 4/5\n",
      "\u001b[1m187/187\u001b[0m \u001b[32m━━━━━━━━━━━━━━━━━━━━\u001b[0m\u001b[37m\u001b[0m \u001b[1m101s\u001b[0m 541ms/step - accuracy: 1.0000 - loss: 0.0000e+00 - val_accuracy: 1.0000 - val_loss: 0.0000e+00\n",
      "Epoch 5/5\n",
      "\u001b[1m187/187\u001b[0m \u001b[32m━━━━━━━━━━━━━━━━━━━━\u001b[0m\u001b[37m\u001b[0m \u001b[1m101s\u001b[0m 538ms/step - accuracy: 1.0000 - loss: 0.0000e+00 - val_accuracy: 1.0000 - val_loss: 0.0000e+00\n",
      "\u001b[1m47/47\u001b[0m \u001b[32m━━━━━━━━━━━━━━━━━━━━\u001b[0m\u001b[37m\u001b[0m \u001b[1m5s\u001b[0m 107ms/step - accuracy: 1.0000 - loss: 0.0000e+00\n",
      "Test accuracy: 1.0\n"
     ]
    }
   ],
   "source": [
    "# 모델 학습\n",
    "model.fit(X_train, y_train, epochs=5, batch_size=32, validation_data=(X_test, y_test))\n",
    "\n",
    "# 모델 평가\n",
    "test_loss, test_acc = model.evaluate(X_test, y_test)\n",
    "print(f'Test accuracy: {test_acc}')\n"
   ]
  },
  {
   "cell_type": "code",
   "execution_count": 794,
   "id": "b3b9f3da-1964-4897-9a52-a230fb7f0da2",
   "metadata": {},
   "outputs": [
    {
     "name": "stdout",
     "output_type": "stream",
     "text": [
      "(5976, 150528) (1494, 150528)\n"
     ]
    }
   ],
   "source": [
    "# 이미지를 평탄화하여 1D 벡터로 변환\n",
    "X_train_flattened = X_train.reshape(X_train.shape[0], -1)  # (batch_size, height*width*channels)\n",
    "X_test_flattened = X_test.reshape(X_test.shape[0], -1)\n",
    "\n",
    "# 데이터 형태 확인\n",
    "print(X_train_flattened.shape, X_test_flattened.shape)\n"
   ]
  },
  {
   "cell_type": "code",
   "execution_count": 795,
   "id": "0062acbd-1e9e-4bf4-8d6d-2a5c875e49c7",
   "metadata": {},
   "outputs": [
    {
     "name": "stdout",
     "output_type": "stream",
     "text": [
      "Accuracy: 100.00%\n",
      "              precision    recall  f1-score   support\n",
      "\n",
      "           1       1.00      1.00      1.00      1494\n",
      "\n",
      "    accuracy                           1.00      1494\n",
      "   macro avg       1.00      1.00      1.00      1494\n",
      "weighted avg       1.00      1.00      1.00      1494\n",
      "\n"
     ]
    }
   ],
   "source": [
    "from sklearn.ensemble import RandomForestClassifier\n",
    "from sklearn.metrics import accuracy_score, classification_report\n",
    "\n",
    "# 랜덤 포레스트 모델 훈련\n",
    "rf_model = RandomForestClassifier(n_estimators=100, random_state=42)\n",
    "rf_model.fit(X_train_flattened, y_train)\n",
    "\n",
    "# 예측\n",
    "y_pred = rf_model.predict(X_test_flattened)\n",
    "\n",
    "# 모델 성능 평가\n",
    "accuracy = accuracy_score(y_test, y_pred)\n",
    "print(f\"Accuracy: {accuracy * 100:.2f}%\")\n",
    "print(classification_report(y_test, y_pred))\n"
   ]
  },
  {
   "cell_type": "code",
   "execution_count": 798,
   "id": "ac5e085b-eab0-4d57-9cf0-67b6b2060118",
   "metadata": {},
   "outputs": [
    {
     "name": "stderr",
     "output_type": "stream",
     "text": [
      "C:\\Users\\PC\\anaconda3\\Lib\\site-packages\\sklearn\\metrics\\_classification.py:386: UserWarning: A single label was found in 'y_true' and 'y_pred'. For the confusion matrix to have the correct shape, use the 'labels' parameter to pass all known labels.\n",
      "  warnings.warn(\n"
     ]
    },
    {
     "data": {
      "image/png": "[encoded data removed]",
      "text/plain": [
       "<Figure size 640x480 with 2 Axes>"
      ]
     },
     "metadata": {},
     "output_type": "display_data"
    }
   ],
   "source": [
    "from sklearn.metrics import confusion_matrix\n",
    "import seaborn as sns\n",
    "import matplotlib.pyplot as plt\n",
    "\n",
    "# 혼동 행렬 출력\n",
    "conf_matrix = confusion_matrix(y_test, y_pred)\n",
    "sns.heatmap(conf_matrix, annot=True, fmt='d', cmap='Blues', xticklabels=['Class 0', 'Class 1'], yticklabels=['Class 0', 'Class 1'])\n",
    "plt.title('Confusion Matrix')\n",
    "plt.xlabel('Predicted')\n",
    "plt.ylabel('True')\n",
    "plt.show()\n"
   ]
  },
  {
   "cell_type": "code",
   "execution_count": null,
   "id": "9eb2c24c-9bae-413b-a168-f8224797d57a",
   "metadata": {},
   "outputs": [],
   "source": []
  },
  {
   "cell_type": "code",
   "execution_count": null,
   "id": "95b5dc35-4274-40a2-9204-2e92a7ef881f",
   "metadata": {},
   "outputs": [],
   "source": []
  }
 ],
 "metadata": {
  "kernelspec": {
   "display_name": "Python 3 (ipykernel)",
   "language": "python",
   "name": "python3"
  },
  "language_info": {
   "codemirror_mode": {
    "name": "ipython",
    "version": 3
   },
   "file_extension": ".py",
   "mimetype": "text/x-python",
   "name": "python",
   "nbconvert_exporter": "python",
   "pygments_lexer": "ipython3",
   "version": "3.11.7"
  }
 },
 "nbformat": 4,
 "nbformat_minor": 5
}
