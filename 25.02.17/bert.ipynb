{
 "cells": [
  {
   "cell_type": "code",
   "execution_count": 1,
   "id": "f3d344e9-c88f-421a-b716-7186eccbcd17",
   "metadata": {},
   "outputs": [
    {
     "data": {
      "text/html": [
       "<div>\n",
       "<style scoped>\n",
       "    .dataframe tbody tr th:only-of-type {\n",
       "        vertical-align: middle;\n",
       "    }\n",
       "\n",
       "    .dataframe tbody tr th {\n",
       "        vertical-align: top;\n",
       "    }\n",
       "\n",
       "    .dataframe thead th {\n",
       "        text-align: right;\n",
       "    }\n",
       "</style>\n",
       "<table border=\"1\" class=\"dataframe\">\n",
       "  <thead>\n",
       "    <tr style=\"text-align: right;\">\n",
       "      <th></th>\n",
       "      <th>uid</th>\n",
       "      <th>filename</th>\n",
       "      <th>projection</th>\n",
       "      <th>MeSH</th>\n",
       "      <th>Problems</th>\n",
       "      <th>image</th>\n",
       "      <th>indication</th>\n",
       "      <th>comparison</th>\n",
       "      <th>findings</th>\n",
       "      <th>impression</th>\n",
       "    </tr>\n",
       "  </thead>\n",
       "  <tbody>\n",
       "    <tr>\n",
       "      <th>0</th>\n",
       "      <td>1</td>\n",
       "      <td>1_IM-0001-4001.dcm.png</td>\n",
       "      <td>Frontal</td>\n",
       "      <td>normal</td>\n",
       "      <td>normal</td>\n",
       "      <td>Xray Chest PA and Lateral</td>\n",
       "      <td>Positive TB test</td>\n",
       "      <td>None.</td>\n",
       "      <td>The cardiac silhouette and mediastinum size ar...</td>\n",
       "      <td>Normal chest x-XXXX.</td>\n",
       "    </tr>\n",
       "    <tr>\n",
       "      <th>1</th>\n",
       "      <td>2</td>\n",
       "      <td>2_IM-0652-1001.dcm.png</td>\n",
       "      <td>Frontal</td>\n",
       "      <td>Cardiomegaly/borderline;Pulmonary Artery/enlarged</td>\n",
       "      <td>Cardiomegaly;Pulmonary Artery</td>\n",
       "      <td>Chest, 2 views, frontal and lateral</td>\n",
       "      <td>Preop bariatric surgery.</td>\n",
       "      <td>None.</td>\n",
       "      <td>Borderline cardiomegaly. Midline sternotomy XX...</td>\n",
       "      <td>No acute pulmonary findings.</td>\n",
       "    </tr>\n",
       "    <tr>\n",
       "      <th>2</th>\n",
       "      <td>3</td>\n",
       "      <td>3_IM-1384-1001.dcm.png</td>\n",
       "      <td>Frontal</td>\n",
       "      <td>normal</td>\n",
       "      <td>normal</td>\n",
       "      <td>Xray Chest PA and Lateral</td>\n",
       "      <td>rib pain after a XXXX, XXXX XXXX steps this XX...</td>\n",
       "      <td>NaN</td>\n",
       "      <td>NaN</td>\n",
       "      <td>No displaced rib fractures, pneumothorax, or p...</td>\n",
       "    </tr>\n",
       "    <tr>\n",
       "      <th>3</th>\n",
       "      <td>4</td>\n",
       "      <td>4_IM-2050-1001.dcm.png</td>\n",
       "      <td>Frontal</td>\n",
       "      <td>Pulmonary Disease, Chronic Obstructive;Bullous...</td>\n",
       "      <td>Pulmonary Disease, Chronic Obstructive;Bullous...</td>\n",
       "      <td>PA and lateral views of the chest XXXX, XXXX a...</td>\n",
       "      <td>XXXX-year-old XXXX with XXXX.</td>\n",
       "      <td>None available</td>\n",
       "      <td>There are diffuse bilateral interstitial and a...</td>\n",
       "      <td>1. Bullous emphysema and interstitial fibrosis...</td>\n",
       "    </tr>\n",
       "    <tr>\n",
       "      <th>4</th>\n",
       "      <td>5</td>\n",
       "      <td>5_IM-2117-1003002.dcm.png</td>\n",
       "      <td>Frontal</td>\n",
       "      <td>Osteophyte/thoracic vertebrae/multiple/small;T...</td>\n",
       "      <td>Osteophyte;Thickening;Lung</td>\n",
       "      <td>Xray Chest PA and Lateral</td>\n",
       "      <td>Chest and nasal congestion.</td>\n",
       "      <td>NaN</td>\n",
       "      <td>The cardiomediastinal silhouette and pulmonary...</td>\n",
       "      <td>No acute cardiopulmonary abnormality.</td>\n",
       "    </tr>\n",
       "  </tbody>\n",
       "</table>\n",
       "</div>"
      ],
      "text/plain": [
       "   uid                   filename projection  \\\n",
       "0    1     1_IM-0001-4001.dcm.png    Frontal   \n",
       "1    2     2_IM-0652-1001.dcm.png    Frontal   \n",
       "2    3     3_IM-1384-1001.dcm.png    Frontal   \n",
       "3    4     4_IM-2050-1001.dcm.png    Frontal   \n",
       "4    5  5_IM-2117-1003002.dcm.png    Frontal   \n",
       "\n",
       "                                                MeSH  \\\n",
       "0                                             normal   \n",
       "1  Cardiomegaly/borderline;Pulmonary Artery/enlarged   \n",
       "2                                             normal   \n",
       "3  Pulmonary Disease, Chronic Obstructive;Bullous...   \n",
       "4  Osteophyte/thoracic vertebrae/multiple/small;T...   \n",
       "\n",
       "                                            Problems  \\\n",
       "0                                             normal   \n",
       "1                      Cardiomegaly;Pulmonary Artery   \n",
       "2                                             normal   \n",
       "3  Pulmonary Disease, Chronic Obstructive;Bullous...   \n",
       "4                         Osteophyte;Thickening;Lung   \n",
       "\n",
       "                                               image  \\\n",
       "0                          Xray Chest PA and Lateral   \n",
       "1                Chest, 2 views, frontal and lateral   \n",
       "2                          Xray Chest PA and Lateral   \n",
       "3  PA and lateral views of the chest XXXX, XXXX a...   \n",
       "4                          Xray Chest PA and Lateral   \n",
       "\n",
       "                                          indication      comparison  \\\n",
       "0                                   Positive TB test           None.   \n",
       "1                           Preop bariatric surgery.           None.   \n",
       "2  rib pain after a XXXX, XXXX XXXX steps this XX...             NaN   \n",
       "3                      XXXX-year-old XXXX with XXXX.  None available   \n",
       "4                        Chest and nasal congestion.             NaN   \n",
       "\n",
       "                                            findings  \\\n",
       "0  The cardiac silhouette and mediastinum size ar...   \n",
       "1  Borderline cardiomegaly. Midline sternotomy XX...   \n",
       "2                                                NaN   \n",
       "3  There are diffuse bilateral interstitial and a...   \n",
       "4  The cardiomediastinal silhouette and pulmonary...   \n",
       "\n",
       "                                          impression  \n",
       "0                               Normal chest x-XXXX.  \n",
       "1                       No acute pulmonary findings.  \n",
       "2  No displaced rib fractures, pneumothorax, or p...  \n",
       "3  1. Bullous emphysema and interstitial fibrosis...  \n",
       "4              No acute cardiopulmonary abnormality.  "
      ]
     },
     "execution_count": 1,
     "metadata": {},
     "output_type": "execute_result"
    }
   ],
   "source": [
    "import pandas as pd\n",
    "\n",
    "# Load the uploaded CSV files to check their structure and contents\n",
    "file_path_projections = \"C:/Users/user/Desktop/학부 연구생/프로젝트/archive/indiana_projections.csv\"\n",
    "file_path_reports =\"C:/Users/user/Desktop/학부 연구생/프로젝트/archive/indiana_reports.csv\"\n",
    "\n",
    "\n",
    "# Read the CSV files\n",
    "data_projections = pd.read_csv(file_path_projections)\n",
    "data_reports = pd.read_csv(file_path_reports)\n",
    "# Filter for \"Frontal\" images in the projections dataset\n",
    "frontal_data = data_projections[data_projections['projection'] == 'Frontal']\n",
    "\n",
    "# Merge the frontal data with the reports data using 'uid' as the key\n",
    "merged_data = pd.merge(frontal_data, data_reports, on='uid', how='inner')\n",
    "\n",
    "# Check the resulting merged data\n",
    "merged_data.head()\n"
   ]
  },
  {
   "cell_type": "code",
   "execution_count": 2,
   "id": "1908ceab-b6e5-409e-8ccb-dc35a9262cbf",
   "metadata": {},
   "outputs": [
    {
     "data": {
      "application/vnd.jupyter.widget-view+json": {
       "model_id": "65ec02b39afd4d4e9635305232804f21",
       "version_major": 2,
       "version_minor": 0
      },
      "text/plain": [
       "tokenizer_config.json:   0%|          | 0.00/48.0 [00:00<?, ?B/s]"
      ]
     },
     "metadata": {},
     "output_type": "display_data"
    },
    {
     "name": "stderr",
     "output_type": "stream",
     "text": [
      "C:\\Users\\user\\anaconda3\\envs\\tf\\lib\\site-packages\\huggingface_hub\\file_download.py:140: UserWarning: `huggingface_hub` cache-system uses symlinks by default to efficiently store duplicated files but your machine does not support them in C:\\Users\\user\\.cache\\huggingface\\hub\\models--bert-base-uncased. Caching files will still work but in a degraded version that might require more space on your disk. This warning can be disabled by setting the `HF_HUB_DISABLE_SYMLINKS_WARNING` environment variable. For more details, see https://huggingface.co/docs/huggingface_hub/how-to-cache#limitations.\n",
      "To support symlinks on Windows, you either need to activate Developer Mode or to run Python as an administrator. In order to activate developer mode, see this article: https://docs.microsoft.com/en-us/windows/apps/get-started/enable-your-device-for-development\n",
      "  warnings.warn(message)\n"
     ]
    },
    {
     "data": {
      "application/vnd.jupyter.widget-view+json": {
       "model_id": "72697c57170746d29479e42ec32e9002",
       "version_major": 2,
       "version_minor": 0
      },
      "text/plain": [
       "vocab.txt:   0%|          | 0.00/232k [00:00<?, ?B/s]"
      ]
     },
     "metadata": {},
     "output_type": "display_data"
    },
    {
     "data": {
      "application/vnd.jupyter.widget-view+json": {
       "model_id": "f6ac766d2d934e849e6ba748e5264a63",
       "version_major": 2,
       "version_minor": 0
      },
      "text/plain": [
       "tokenizer.json:   0%|          | 0.00/466k [00:00<?, ?B/s]"
      ]
     },
     "metadata": {},
     "output_type": "display_data"
    },
    {
     "data": {
      "application/vnd.jupyter.widget-view+json": {
       "model_id": "9ccd311ae99b40c2939d3cef7a7c11d4",
       "version_major": 2,
       "version_minor": 0
      },
      "text/plain": [
       "config.json:   0%|          | 0.00/570 [00:00<?, ?B/s]"
      ]
     },
     "metadata": {},
     "output_type": "display_data"
    }
   ],
   "source": [
    "from transformers import BertTokenizer, BertForMaskedLM\n",
    "import torch\n",
    "from torch.utils.data import DataLoader, Dataset\n",
    "# findings와 impression 결합\n",
    "merged_data[\"report\"] = merged_data[\"findings\"].fillna(\"\") + \" \" + merged_data[\"impression\"].fillna(\"\")\n",
    "merged_data[\"report\"] = merged_data[\"report\"].str.strip()\n",
    "\n",
    "# 필요한 컬럼 선택 및 NaN 제거\n",
    "merged_data = merged_data[[\"uid\", \"filename\", \"projection\", \"indication\", \"report\"]].dropna()\n",
    "\n",
    "# BERT Tokenizer 로드\n",
    "tokenizer = BertTokenizer.from_pretrained(\"bert-base-uncased\")\n",
    "\n",
    "# MLM 데이터셋 클래스 정의\n",
    "class MLM_Dataset(Dataset):\n",
    "    def __init__(self, texts, tokenizer, max_length=512):\n",
    "        self.texts = texts\n",
    "        self.tokenizer = tokenizer\n",
    "        self.max_length = max_length\n",
    "\n",
    "    def __len__(self):\n",
    "        return len(self.texts)\n",
    "\n",
    "    def __getitem__(self, idx):\n",
    "        text = self.texts[idx]\n",
    "        \n",
    "        # BERT 토크나이징\n",
    "        encoding = self.tokenizer(\n",
    "            text,\n",
    "            padding=\"max_length\",\n",
    "            truncation=True,\n",
    "            max_length=self.max_length,\n",
    "            return_tensors=\"pt\"\n",
    "        )\n",
    "\n",
    "        input_ids = encoding[\"input_ids\"].squeeze(0)\n",
    "        attention_mask = encoding[\"attention_mask\"].squeeze(0)\n",
    "        return {\"input_ids\": input_ids, \"attention_mask\": attention_mask, \"labels\": labels}\n"
   ]
  },
  {
   "cell_type": "code",
   "execution_count": 3,
   "id": "4a47b54c-cad8-41c7-aab0-7fb56900dd4f",
   "metadata": {},
   "outputs": [
    {
     "data": {
      "application/vnd.jupyter.widget-view+json": {
       "model_id": "6b4aefa6b7684a578d7475b47e4029ec",
       "version_major": 2,
       "version_minor": 0
      },
      "text/plain": [
       "model.safetensors:   0%|          | 0.00/440M [00:00<?, ?B/s]"
      ]
     },
     "metadata": {},
     "output_type": "display_data"
    },
    {
     "name": "stderr",
     "output_type": "stream",
     "text": [
      "Some weights of BertForSequenceClassification were not initialized from the model checkpoint at bert-base-uncased and are newly initialized: ['classifier.bias', 'classifier.weight']\n",
      "You should probably TRAIN this model on a down-stream task to be able to use it for predictions and inference.\n",
      "BertForMaskedLM has generative capabilities, as `prepare_inputs_for_generation` is explicitly overwritten. However, it doesn't directly inherit from `GenerationMixin`. From 👉v4.50👈 onwards, `PreTrainedModel` will NOT inherit from `GenerationMixin`, and this model will lose the ability to call `generate` and other related functions.\n",
      "  - If you're using `trust_remote_code=True`, you can get rid of this warning by loading the model with an auto class. See https://huggingface.co/docs/transformers/en/model_doc/auto#auto-classes\n",
      "  - If you are the owner of the model architecture code, please modify your model class such that it inherits from `GenerationMixin` (after `PreTrainedModel`, otherwise you'll get an exception).\n",
      "  - If you are not the owner of the model architecture class, please contact the model code owner to update it.\n",
      "Some weights of the model checkpoint at bert-base-uncased were not used when initializing BertForMaskedLM: ['bert.pooler.dense.bias', 'bert.pooler.dense.weight', 'cls.seq_relationship.bias', 'cls.seq_relationship.weight']\n",
      "- This IS expected if you are initializing BertForMaskedLM from the checkpoint of a model trained on another task or with another architecture (e.g. initializing a BertForSequenceClassification model from a BertForPreTraining model).\n",
      "- This IS NOT expected if you are initializing BertForMaskedLM from the checkpoint of a model that you expect to be exactly identical (initializing a BertForSequenceClassification model from a BertForSequenceClassification model).\n"
     ]
    }
   ],
   "source": [
    "from transformers import BertForSequenceClassification\n",
    "model = BertForSequenceClassification.from_pretrained('bert-base-uncased')\n",
    "\n",
    "\n",
    "# 데이터셋 및 DataLoader 생성\n",
    "mlm_dataset = MLM_Dataset(merged_data[\"report\"].tolist() + merged_data[\"indication\"].tolist(), tokenizer)\n",
    "mlm_dataloader = DataLoader(mlm_dataset, batch_size=8, shuffle=True)\n",
    "\n",
    "# 모델 로드\n",
    "device = torch.device(\"cuda\" if torch.cuda.is_available() else \"cpu\")\n",
    "model = BertForMaskedLM.from_pretrained(\"bert-base-uncased\").to(device)"
   ]
  },
  {
   "cell_type": "code",
   "execution_count": 4,
   "id": "2187389d-61c7-4285-9fea-bd9dd8a7c4e8",
   "metadata": {},
   "outputs": [
    {
     "name": "stdout",
     "output_type": "stream",
     "text": [
      "==================================================\n",
      "📝 원본 텍스트:\n",
      " There is widening of the mediastinum. There is moderate cardiomegaly identified. The central pulmonary XXXX appear enlarged. Correlate for pulmonary vascular congestion. No focal infiltrate. No large effusion or pneumothorax. 1. Moderate increase in size of the cardiac silhouette. Unclear whether this is secondary to cardiomegaly or pericardial effusion. 2. Pulmonary vascular congestion. 3. Widened mediastinum. Maybe secondary to prominent mediastinal fat or tortuous XXXX. However, adenopathy, or mass is not excluded. CT of the chest with contrast is recommended for further evaluation of these findings. \n",
      " ==================================================\n",
      "\n",
      "🔍 마스킹된 텍스트:\n",
      " There is widening of the mediastinum. There is moderate cardiomegaly identified. The central pulmonary [MASK] appear enlarged. Correlate for pulmonary vascular congestion. No focal infiltrate. No large effusion or pneumothorax. 1. Moderate increase in size of the cardiac silhouette. Unclear whether this is secondary to cardiomegaly or pericardial effusion. 2. Pulmonary vascular congestion. 3. Widened mediastinum. Maybe secondary to prominent mediastinal fat or tortuous [MASK]. However, adenopathy, or mass is not excluded. CT of the chest with contrast is recommended for further evaluation of these findings. \n",
      " ==================================================\n",
      "\n",
      "🎯 예측된 텍스트:\n",
      " There is widening of the mediastinum. There is moderate cardiomegaly identified. The central pulmonary veins appear enlarged. Correlate for pulmonary vascular congestion. No focal infiltrate. No large effusion or pneumothorax. 1. Moderate increase in size of the cardiac silhouette. Unclear whether this is secondary to cardiomegaly or pericardial effusion. 2. Pulmonary vascular congestion. 3. Widened mediastinum. Maybe secondary to prominent mediastinal fat or tortuous tissue. However, adenopathy, or mass is not excluded. CT of the chest with contrast is recommended for further evaluation of these findings. \n",
      " ==================================================\n"
     ]
    }
   ],
   "source": [
    "import random\n",
    "\n",
    "# 'report' 컬럼에서 'XXXX'가 포함된 문장만 필터링\n",
    "filtered_texts = [text for text in merged_data[\"report\"].dropna() if \"XXXX\" in text]\n",
    "\n",
    "# 랜덤 샘플 선택 (filtered_texts가 비어 있으면 기본값 제공)\n",
    "sample_text = random.choice(filtered_texts) if filtered_texts else \"No valid text found.\"\n",
    "\n",
    "# 마스킹 수행\n",
    "masked_text = sample_text.replace(\"XXXX\", tokenizer.mask_token)\n",
    "\n",
    "# 토크나이징 및 텐서 변환\n",
    "inputs = tokenizer(masked_text, return_tensors=\"pt\").to(device)\n",
    "mask_idx = torch.where(inputs.input_ids == tokenizer.mask_token_id)[1]\n",
    "\n",
    "# MLM 예측 수행\n",
    "with torch.no_grad():\n",
    "    predictions = model(**inputs).logits\n",
    "\n",
    "# 마스크된 토큰 예측 및 복원\n",
    "predicted_text = masked_text\n",
    "for idx in mask_idx.tolist():\n",
    "    predicted_token = tokenizer.decode(torch.argmax(predictions[0, idx]))\n",
    "    predicted_text = predicted_text.replace(tokenizer.mask_token, predicted_token, 1)\n",
    "\n",
    "# 결과 출력\n",
    "print(\"=\" * 50)\n",
    "print(\"📝 원본 텍스트:\\n\", sample_text, \"\\n\", \"=\" * 50)\n",
    "print(\"\\n🔍 마스킹된 텍스트:\\n\", masked_text, \"\\n\", \"=\" * 50)\n",
    "print(\"\\n🎯 예측된 텍스트:\\n\", predicted_text, \"\\n\", \"=\" * 50)"
   ]
  },
  {
   "cell_type": "code",
   "execution_count": null,
   "id": "0daae54d-bb8a-4915-8b63-9fa8b7579d88",
   "metadata": {},
   "outputs": [],
   "source": []
  }
 ],
 "metadata": {
  "kernelspec": {
   "display_name": "Python 3 (ipykernel)",
   "language": "python",
   "name": "python3"
  },
  "language_info": {
   "codemirror_mode": {
    "name": "ipython",
    "version": 3
   },
   "file_extension": ".py",
   "mimetype": "text/x-python",
   "name": "python",
   "nbconvert_exporter": "python",
   "pygments_lexer": "ipython3",
   "version": "3.10.13"
  }
 },
 "nbformat": 4,
 "nbformat_minor": 5
}
